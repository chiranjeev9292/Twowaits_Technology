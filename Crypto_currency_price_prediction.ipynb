{
  "nbformat": 4,
  "nbformat_minor": 0,
  "metadata": {
    "colab": {
      "name": "Crypto_currency_price_prediction.ipynb",
      "provenance": [],
      "authorship_tag": "ABX9TyPSXXYNv3KYcWqFWz3rdfn/",
      "include_colab_link": true
    },
    "kernelspec": {
      "name": "python3",
      "display_name": "Python 3"
    },
    "language_info": {
      "name": "python"
    }
  },
  "cells": [
    {
      "cell_type": "markdown",
      "metadata": {
        "id": "view-in-github",
        "colab_type": "text"
      },
      "source": [
        "<a href=\"https://colab.research.google.com/github/chiranjeev9292/Twowaits_Technology/blob/main/Crypto_currency_price_prediction.ipynb\" target=\"_parent\"><img src=\"https://colab.research.google.com/assets/colab-badge.svg\" alt=\"Open In Colab\"/></a>"
      ]
    },
    {
      "cell_type": "markdown",
      "metadata": {
        "id": "5t7Jy9hf_r4Q"
      },
      "source": [
        "# **Author : Chiranjeev Sharma**"
      ]
    },
    {
      "cell_type": "markdown",
      "metadata": {
        "id": "RFdACph_AV8D"
      },
      "source": [
        "**Task -To predict the price of etherium**\n"
      ]
    },
    {
      "cell_type": "markdown",
      "metadata": {
        "id": "0L15eu1LAn0E"
      },
      "source": [
        "Objective - To predict the price of etherium  for fututre after 14 days (Traning Set)."
      ]
    },
    {
      "cell_type": "markdown",
      "metadata": {
        "id": "ehVakrFBE3kG"
      },
      "source": [
        "Dataset URL : \"https://drive.google.com/file/d/1zxNPbfzK_YLQWkEekNaGZpLOxaNl84IC/view\""
      ]
    },
    {
      "cell_type": "markdown",
      "metadata": {
        "id": "G1nHJldbE6a-"
      },
      "source": [
        "# *Import Libraries*"
      ]
    },
    {
      "cell_type": "code",
      "metadata": {
        "id": "0S1JDDQ4_omI"
      },
      "source": [
        "import numpy as np\n",
        "import pandas as pd\n",
        "import seaborn as sns\n",
        "import matplotlib.pyplot as plt\n",
        "%matplotlib inline"
      ],
      "execution_count": 19,
      "outputs": []
    },
    {
      "cell_type": "markdown",
      "metadata": {
        "id": "BTCLsCJvGOxy"
      },
      "source": [
        "#*Loading the Dataset*"
      ]
    },
    {
      "cell_type": "code",
      "metadata": {
        "colab": {
          "base_uri": "https://localhost:8080/"
        },
        "id": "gmPC4JgWGcqF",
        "outputId": "1e66052f-bf6c-4338-a22a-7faa725743de"
      },
      "source": [
        "from google.colab import drive\n",
        "drive.mount(\"/content/drive\")"
      ],
      "execution_count": 20,
      "outputs": [
        {
          "output_type": "stream",
          "text": [
            "Mounted at /content/drive\n"
          ],
          "name": "stdout"
        }
      ]
    },
    {
      "cell_type": "code",
      "metadata": {
        "colab": {
          "base_uri": "https://localhost:8080/",
          "height": 351
        },
        "id": "-BfbpKaBJfJ_",
        "outputId": "013dc712-d935-4004-984d-2fb9e4711d2c"
      },
      "source": [
        "df = pd.read_csv(\"/content/drive/MyDrive/Crypto_currency_price_prediction/ETH_1H.csv\")\n",
        "df.head(10)"
      ],
      "execution_count": 23,
      "outputs": [
        {
          "output_type": "execute_result",
          "data": {
            "text/html": [
              "<div>\n",
              "<style scoped>\n",
              "    .dataframe tbody tr th:only-of-type {\n",
              "        vertical-align: middle;\n",
              "    }\n",
              "\n",
              "    .dataframe tbody tr th {\n",
              "        vertical-align: top;\n",
              "    }\n",
              "\n",
              "    .dataframe thead th {\n",
              "        text-align: right;\n",
              "    }\n",
              "</style>\n",
              "<table border=\"1\" class=\"dataframe\">\n",
              "  <thead>\n",
              "    <tr style=\"text-align: right;\">\n",
              "      <th></th>\n",
              "      <th>Unix Timestamp</th>\n",
              "      <th>Date</th>\n",
              "      <th>Symbol</th>\n",
              "      <th>Open</th>\n",
              "      <th>High</th>\n",
              "      <th>Low</th>\n",
              "      <th>Close</th>\n",
              "      <th>Volume</th>\n",
              "    </tr>\n",
              "  </thead>\n",
              "  <tbody>\n",
              "    <tr>\n",
              "      <th>0</th>\n",
              "      <td>1586995200000</td>\n",
              "      <td>2020-04-16 00:00:00</td>\n",
              "      <td>ETHUSD</td>\n",
              "      <td>152.94</td>\n",
              "      <td>152.94</td>\n",
              "      <td>150.39</td>\n",
              "      <td>150.39</td>\n",
              "      <td>650.188125</td>\n",
              "    </tr>\n",
              "    <tr>\n",
              "      <th>1</th>\n",
              "      <td>1586991600000</td>\n",
              "      <td>2020-04-15 23:00:00</td>\n",
              "      <td>ETHUSD</td>\n",
              "      <td>155.81</td>\n",
              "      <td>155.81</td>\n",
              "      <td>151.39</td>\n",
              "      <td>152.94</td>\n",
              "      <td>4277.567299</td>\n",
              "    </tr>\n",
              "    <tr>\n",
              "      <th>2</th>\n",
              "      <td>1586988000000</td>\n",
              "      <td>2020-04-15 22:00:00</td>\n",
              "      <td>ETHUSD</td>\n",
              "      <td>157.18</td>\n",
              "      <td>157.30</td>\n",
              "      <td>155.32</td>\n",
              "      <td>155.81</td>\n",
              "      <td>106.337279</td>\n",
              "    </tr>\n",
              "    <tr>\n",
              "      <th>3</th>\n",
              "      <td>1586984400000</td>\n",
              "      <td>2020-04-15 21:00:00</td>\n",
              "      <td>ETHUSD</td>\n",
              "      <td>158.04</td>\n",
              "      <td>158.31</td>\n",
              "      <td>157.16</td>\n",
              "      <td>157.18</td>\n",
              "      <td>55.244131</td>\n",
              "    </tr>\n",
              "    <tr>\n",
              "      <th>4</th>\n",
              "      <td>1586980800000</td>\n",
              "      <td>2020-04-15 20:00:00</td>\n",
              "      <td>ETHUSD</td>\n",
              "      <td>157.10</td>\n",
              "      <td>158.10</td>\n",
              "      <td>156.87</td>\n",
              "      <td>158.04</td>\n",
              "      <td>144.262622</td>\n",
              "    </tr>\n",
              "    <tr>\n",
              "      <th>5</th>\n",
              "      <td>1586977200000</td>\n",
              "      <td>2020-04-15 19:00:00</td>\n",
              "      <td>ETHUSD</td>\n",
              "      <td>157.78</td>\n",
              "      <td>157.84</td>\n",
              "      <td>157.10</td>\n",
              "      <td>157.10</td>\n",
              "      <td>329.356201</td>\n",
              "    </tr>\n",
              "    <tr>\n",
              "      <th>6</th>\n",
              "      <td>1586973600000</td>\n",
              "      <td>2020-04-15 18:00:00</td>\n",
              "      <td>ETHUSD</td>\n",
              "      <td>157.48</td>\n",
              "      <td>158.20</td>\n",
              "      <td>157.48</td>\n",
              "      <td>157.78</td>\n",
              "      <td>520.137463</td>\n",
              "    </tr>\n",
              "    <tr>\n",
              "      <th>7</th>\n",
              "      <td>1586970000000</td>\n",
              "      <td>2020-04-15 17:00:00</td>\n",
              "      <td>ETHUSD</td>\n",
              "      <td>157.12</td>\n",
              "      <td>157.78</td>\n",
              "      <td>156.90</td>\n",
              "      <td>157.48</td>\n",
              "      <td>156.552221</td>\n",
              "    </tr>\n",
              "    <tr>\n",
              "      <th>8</th>\n",
              "      <td>1586966400000</td>\n",
              "      <td>2020-04-15 16:00:00</td>\n",
              "      <td>ETHUSD</td>\n",
              "      <td>155.81</td>\n",
              "      <td>157.52</td>\n",
              "      <td>155.74</td>\n",
              "      <td>157.12</td>\n",
              "      <td>430.083035</td>\n",
              "    </tr>\n",
              "    <tr>\n",
              "      <th>9</th>\n",
              "      <td>1586962800000</td>\n",
              "      <td>2020-04-15 15:00:00</td>\n",
              "      <td>ETHUSD</td>\n",
              "      <td>157.12</td>\n",
              "      <td>157.15</td>\n",
              "      <td>155.81</td>\n",
              "      <td>155.81</td>\n",
              "      <td>303.839541</td>\n",
              "    </tr>\n",
              "  </tbody>\n",
              "</table>\n",
              "</div>"
            ],
            "text/plain": [
              "   Unix Timestamp                 Date  Symbol  ...     Low   Close       Volume\n",
              "0   1586995200000  2020-04-16 00:00:00  ETHUSD  ...  150.39  150.39   650.188125\n",
              "1   1586991600000  2020-04-15 23:00:00  ETHUSD  ...  151.39  152.94  4277.567299\n",
              "2   1586988000000  2020-04-15 22:00:00  ETHUSD  ...  155.32  155.81   106.337279\n",
              "3   1586984400000  2020-04-15 21:00:00  ETHUSD  ...  157.16  157.18    55.244131\n",
              "4   1586980800000  2020-04-15 20:00:00  ETHUSD  ...  156.87  158.04   144.262622\n",
              "5   1586977200000  2020-04-15 19:00:00  ETHUSD  ...  157.10  157.10   329.356201\n",
              "6   1586973600000  2020-04-15 18:00:00  ETHUSD  ...  157.48  157.78   520.137463\n",
              "7   1586970000000  2020-04-15 17:00:00  ETHUSD  ...  156.90  157.48   156.552221\n",
              "8   1586966400000  2020-04-15 16:00:00  ETHUSD  ...  155.74  157.12   430.083035\n",
              "9   1586962800000  2020-04-15 15:00:00  ETHUSD  ...  155.81  155.81   303.839541\n",
              "\n",
              "[10 rows x 8 columns]"
            ]
          },
          "metadata": {
            "tags": []
          },
          "execution_count": 23
        }
      ]
    },
    {
      "cell_type": "markdown",
      "metadata": {
        "id": "YkYb0YfZVXIg"
      },
      "source": [
        "# *Data Cleaning*"
      ]
    },
    {
      "cell_type": "markdown",
      "metadata": {
        "id": "d-Jh75OUViJ7"
      },
      "source": [
        "Checking how many missing values are there in dataset(Handling Missing Values)"
      ]
    },
    {
      "cell_type": "code",
      "metadata": {
        "colab": {
          "base_uri": "https://localhost:8080/"
        },
        "id": "tf2_1nYvVzp1",
        "outputId": "a5f4ed41-4082-4054-d540-a67ccdc83935"
      },
      "source": [
        "df.isna().sum()"
      ],
      "execution_count": 24,
      "outputs": [
        {
          "output_type": "execute_result",
          "data": {
            "text/plain": [
              "Unix Timestamp    0\n",
              "Date              0\n",
              "Symbol            0\n",
              "Open              0\n",
              "High              0\n",
              "Low               0\n",
              "Close             0\n",
              "Volume            0\n",
              "dtype: int64"
            ]
          },
          "metadata": {
            "tags": []
          },
          "execution_count": 24
        }
      ]
    },
    {
      "cell_type": "markdown",
      "metadata": {
        "id": "AOS_oYZ_WEuy"
      },
      "source": [
        "Descriptive analysis of dataset(Using Descibe Function)"
      ]
    },
    {
      "cell_type": "code",
      "metadata": {
        "colab": {
          "base_uri": "https://localhost:8080/",
          "height": 290
        },
        "id": "_gIVgqvIWGZb",
        "outputId": "4f4b59d8-db2b-445f-b64f-c7d72e15f54a"
      },
      "source": [
        "df.describe()"
      ],
      "execution_count": 25,
      "outputs": [
        {
          "output_type": "execute_result",
          "data": {
            "text/html": [
              "<div>\n",
              "<style scoped>\n",
              "    .dataframe tbody tr th:only-of-type {\n",
              "        vertical-align: middle;\n",
              "    }\n",
              "\n",
              "    .dataframe tbody tr th {\n",
              "        vertical-align: top;\n",
              "    }\n",
              "\n",
              "    .dataframe thead th {\n",
              "        text-align: right;\n",
              "    }\n",
              "</style>\n",
              "<table border=\"1\" class=\"dataframe\">\n",
              "  <thead>\n",
              "    <tr style=\"text-align: right;\">\n",
              "      <th></th>\n",
              "      <th>Unix Timestamp</th>\n",
              "      <th>Open</th>\n",
              "      <th>High</th>\n",
              "      <th>Low</th>\n",
              "      <th>Close</th>\n",
              "      <th>Volume</th>\n",
              "    </tr>\n",
              "  </thead>\n",
              "  <tbody>\n",
              "    <tr>\n",
              "      <th>count</th>\n",
              "      <td>3.449700e+04</td>\n",
              "      <td>34497.000000</td>\n",
              "      <td>34497.000000</td>\n",
              "      <td>34497.000000</td>\n",
              "      <td>34497.000000</td>\n",
              "      <td>34497.000000</td>\n",
              "    </tr>\n",
              "    <tr>\n",
              "      <th>mean</th>\n",
              "      <td>7.147761e+11</td>\n",
              "      <td>239.172160</td>\n",
              "      <td>240.988877</td>\n",
              "      <td>237.142926</td>\n",
              "      <td>239.176415</td>\n",
              "      <td>1563.625471</td>\n",
              "    </tr>\n",
              "    <tr>\n",
              "      <th>std</th>\n",
              "      <td>7.758756e+11</td>\n",
              "      <td>237.205512</td>\n",
              "      <td>239.468230</td>\n",
              "      <td>234.532649</td>\n",
              "      <td>237.202348</td>\n",
              "      <td>7003.461234</td>\n",
              "    </tr>\n",
              "    <tr>\n",
              "      <th>min</th>\n",
              "      <td>1.462799e+09</td>\n",
              "      <td>0.000000</td>\n",
              "      <td>6.150000</td>\n",
              "      <td>0.000000</td>\n",
              "      <td>6.100000</td>\n",
              "      <td>0.000000</td>\n",
              "    </tr>\n",
              "    <tr>\n",
              "      <th>25%</th>\n",
              "      <td>1.493845e+09</td>\n",
              "      <td>81.020000</td>\n",
              "      <td>82.120000</td>\n",
              "      <td>79.980000</td>\n",
              "      <td>81.020000</td>\n",
              "      <td>101.092334</td>\n",
              "    </tr>\n",
              "    <tr>\n",
              "      <th>50%</th>\n",
              "      <td>1.524892e+09</td>\n",
              "      <td>181.870000</td>\n",
              "      <td>182.770000</td>\n",
              "      <td>180.820000</td>\n",
              "      <td>181.870000</td>\n",
              "      <td>444.684817</td>\n",
              "    </tr>\n",
              "    <tr>\n",
              "      <th>75%</th>\n",
              "      <td>1.555938e+12</td>\n",
              "      <td>298.070000</td>\n",
              "      <td>299.920000</td>\n",
              "      <td>296.380000</td>\n",
              "      <td>298.070000</td>\n",
              "      <td>1508.711881</td>\n",
              "    </tr>\n",
              "    <tr>\n",
              "      <th>max</th>\n",
              "      <td>1.586995e+12</td>\n",
              "      <td>1417.540000</td>\n",
              "      <td>1420.010000</td>\n",
              "      <td>1388.990000</td>\n",
              "      <td>1417.540000</td>\n",
              "      <td>903102.685700</td>\n",
              "    </tr>\n",
              "  </tbody>\n",
              "</table>\n",
              "</div>"
            ],
            "text/plain": [
              "       Unix Timestamp          Open  ...         Close         Volume\n",
              "count    3.449700e+04  34497.000000  ...  34497.000000   34497.000000\n",
              "mean     7.147761e+11    239.172160  ...    239.176415    1563.625471\n",
              "std      7.758756e+11    237.205512  ...    237.202348    7003.461234\n",
              "min      1.462799e+09      0.000000  ...      6.100000       0.000000\n",
              "25%      1.493845e+09     81.020000  ...     81.020000     101.092334\n",
              "50%      1.524892e+09    181.870000  ...    181.870000     444.684817\n",
              "75%      1.555938e+12    298.070000  ...    298.070000    1508.711881\n",
              "max      1.586995e+12   1417.540000  ...   1417.540000  903102.685700\n",
              "\n",
              "[8 rows x 6 columns]"
            ]
          },
          "metadata": {
            "tags": []
          },
          "execution_count": 25
        }
      ]
    },
    {
      "cell_type": "markdown",
      "metadata": {
        "id": "iskZ77_4Wdr4"
      },
      "source": [
        "\n",
        "Infromation about Data (Using info Function)"
      ]
    },
    {
      "cell_type": "code",
      "metadata": {
        "colab": {
          "base_uri": "https://localhost:8080/"
        },
        "id": "HkV4EURnWe8c",
        "outputId": "65564151-6c0a-4594-8d3a-59451f314ee2"
      },
      "source": [
        "df.info"
      ],
      "execution_count": 26,
      "outputs": [
        {
          "output_type": "execute_result",
          "data": {
            "text/plain": [
              "<bound method DataFrame.info of        Unix Timestamp                 Date  Symbol  ...     Low   Close       Volume\n",
              "0       1586995200000  2020-04-16 00:00:00  ETHUSD  ...  150.39  150.39   650.188125\n",
              "1       1586991600000  2020-04-15 23:00:00  ETHUSD  ...  151.39  152.94  4277.567299\n",
              "2       1586988000000  2020-04-15 22:00:00  ETHUSD  ...  155.32  155.81   106.337279\n",
              "3       1586984400000  2020-04-15 21:00:00  ETHUSD  ...  157.16  157.18    55.244131\n",
              "4       1586980800000  2020-04-15 20:00:00  ETHUSD  ...  156.87  158.04   144.262622\n",
              "...               ...                  ...     ...  ...     ...     ...          ...\n",
              "34492      1462813200  2016-05-09 17:00:00  ETHUSD  ...    9.48    9.49   329.553213\n",
              "34493      1462809600  2016-05-09 16:00:00  ETHUSD  ...    9.79    9.83    62.379450\n",
              "34494      1462806000  2016-05-09 15:00:00  ETHUSD  ...    9.99    9.99    10.973567\n",
              "34495      1462802400  2016-05-09 14:00:00  ETHUSD  ...    9.55   10.00   235.774075\n",
              "34496      1462798800  2016-05-09 13:00:00  ETHUSD  ...    0.00    9.55   432.562115\n",
              "\n",
              "[34497 rows x 8 columns]>"
            ]
          },
          "metadata": {
            "tags": []
          },
          "execution_count": 26
        }
      ]
    },
    {
      "cell_type": "markdown",
      "metadata": {
        "id": "-y3AFregWicU"
      },
      "source": [
        "# *Data Preprocessing and Logic Implementation.*"
      ]
    },
    {
      "cell_type": "code",
      "metadata": {
        "colab": {
          "base_uri": "https://localhost:8080/",
          "height": 408
        },
        "id": "yJaUBk2YWwlU",
        "outputId": "a2863db9-f5aa-4726-f7f2-2ebb4e90897c"
      },
      "source": [
        "# Variable for number of days to predict for future.\n",
        "projection =14\n",
        "\n",
        "# create a new column named prediction\n",
        "df['Prediction'] = df[['Close']].shift(-projection)\n",
        "df"
      ],
      "execution_count": 27,
      "outputs": [
        {
          "output_type": "execute_result",
          "data": {
            "text/html": [
              "<div>\n",
              "<style scoped>\n",
              "    .dataframe tbody tr th:only-of-type {\n",
              "        vertical-align: middle;\n",
              "    }\n",
              "\n",
              "    .dataframe tbody tr th {\n",
              "        vertical-align: top;\n",
              "    }\n",
              "\n",
              "    .dataframe thead th {\n",
              "        text-align: right;\n",
              "    }\n",
              "</style>\n",
              "<table border=\"1\" class=\"dataframe\">\n",
              "  <thead>\n",
              "    <tr style=\"text-align: right;\">\n",
              "      <th></th>\n",
              "      <th>Unix Timestamp</th>\n",
              "      <th>Date</th>\n",
              "      <th>Symbol</th>\n",
              "      <th>Open</th>\n",
              "      <th>High</th>\n",
              "      <th>Low</th>\n",
              "      <th>Close</th>\n",
              "      <th>Volume</th>\n",
              "      <th>Prediction</th>\n",
              "    </tr>\n",
              "  </thead>\n",
              "  <tbody>\n",
              "    <tr>\n",
              "      <th>0</th>\n",
              "      <td>1586995200000</td>\n",
              "      <td>2020-04-16 00:00:00</td>\n",
              "      <td>ETHUSD</td>\n",
              "      <td>152.94</td>\n",
              "      <td>152.94</td>\n",
              "      <td>150.39</td>\n",
              "      <td>150.39</td>\n",
              "      <td>650.188125</td>\n",
              "      <td>157.69</td>\n",
              "    </tr>\n",
              "    <tr>\n",
              "      <th>1</th>\n",
              "      <td>1586991600000</td>\n",
              "      <td>2020-04-15 23:00:00</td>\n",
              "      <td>ETHUSD</td>\n",
              "      <td>155.81</td>\n",
              "      <td>155.81</td>\n",
              "      <td>151.39</td>\n",
              "      <td>152.94</td>\n",
              "      <td>4277.567299</td>\n",
              "      <td>159.05</td>\n",
              "    </tr>\n",
              "    <tr>\n",
              "      <th>2</th>\n",
              "      <td>1586988000000</td>\n",
              "      <td>2020-04-15 22:00:00</td>\n",
              "      <td>ETHUSD</td>\n",
              "      <td>157.18</td>\n",
              "      <td>157.30</td>\n",
              "      <td>155.32</td>\n",
              "      <td>155.81</td>\n",
              "      <td>106.337279</td>\n",
              "      <td>158.77</td>\n",
              "    </tr>\n",
              "    <tr>\n",
              "      <th>3</th>\n",
              "      <td>1586984400000</td>\n",
              "      <td>2020-04-15 21:00:00</td>\n",
              "      <td>ETHUSD</td>\n",
              "      <td>158.04</td>\n",
              "      <td>158.31</td>\n",
              "      <td>157.16</td>\n",
              "      <td>157.18</td>\n",
              "      <td>55.244131</td>\n",
              "      <td>159.84</td>\n",
              "    </tr>\n",
              "    <tr>\n",
              "      <th>4</th>\n",
              "      <td>1586980800000</td>\n",
              "      <td>2020-04-15 20:00:00</td>\n",
              "      <td>ETHUSD</td>\n",
              "      <td>157.10</td>\n",
              "      <td>158.10</td>\n",
              "      <td>156.87</td>\n",
              "      <td>158.04</td>\n",
              "      <td>144.262622</td>\n",
              "      <td>160.21</td>\n",
              "    </tr>\n",
              "    <tr>\n",
              "      <th>...</th>\n",
              "      <td>...</td>\n",
              "      <td>...</td>\n",
              "      <td>...</td>\n",
              "      <td>...</td>\n",
              "      <td>...</td>\n",
              "      <td>...</td>\n",
              "      <td>...</td>\n",
              "      <td>...</td>\n",
              "      <td>...</td>\n",
              "    </tr>\n",
              "    <tr>\n",
              "      <th>34492</th>\n",
              "      <td>1462813200</td>\n",
              "      <td>2016-05-09 17:00:00</td>\n",
              "      <td>ETHUSD</td>\n",
              "      <td>9.83</td>\n",
              "      <td>9.83</td>\n",
              "      <td>9.48</td>\n",
              "      <td>9.49</td>\n",
              "      <td>329.553213</td>\n",
              "      <td>NaN</td>\n",
              "    </tr>\n",
              "    <tr>\n",
              "      <th>34493</th>\n",
              "      <td>1462809600</td>\n",
              "      <td>2016-05-09 16:00:00</td>\n",
              "      <td>ETHUSD</td>\n",
              "      <td>9.99</td>\n",
              "      <td>9.99</td>\n",
              "      <td>9.79</td>\n",
              "      <td>9.83</td>\n",
              "      <td>62.379450</td>\n",
              "      <td>NaN</td>\n",
              "    </tr>\n",
              "    <tr>\n",
              "      <th>34494</th>\n",
              "      <td>1462806000</td>\n",
              "      <td>2016-05-09 15:00:00</td>\n",
              "      <td>ETHUSD</td>\n",
              "      <td>10.00</td>\n",
              "      <td>10.00</td>\n",
              "      <td>9.99</td>\n",
              "      <td>9.99</td>\n",
              "      <td>10.973567</td>\n",
              "      <td>NaN</td>\n",
              "    </tr>\n",
              "    <tr>\n",
              "      <th>34495</th>\n",
              "      <td>1462802400</td>\n",
              "      <td>2016-05-09 14:00:00</td>\n",
              "      <td>ETHUSD</td>\n",
              "      <td>9.55</td>\n",
              "      <td>10.00</td>\n",
              "      <td>9.55</td>\n",
              "      <td>10.00</td>\n",
              "      <td>235.774075</td>\n",
              "      <td>NaN</td>\n",
              "    </tr>\n",
              "    <tr>\n",
              "      <th>34496</th>\n",
              "      <td>1462798800</td>\n",
              "      <td>2016-05-09 13:00:00</td>\n",
              "      <td>ETHUSD</td>\n",
              "      <td>0.00</td>\n",
              "      <td>12.00</td>\n",
              "      <td>0.00</td>\n",
              "      <td>9.55</td>\n",
              "      <td>432.562115</td>\n",
              "      <td>NaN</td>\n",
              "    </tr>\n",
              "  </tbody>\n",
              "</table>\n",
              "<p>34497 rows × 9 columns</p>\n",
              "</div>"
            ],
            "text/plain": [
              "       Unix Timestamp                 Date  ...       Volume  Prediction\n",
              "0       1586995200000  2020-04-16 00:00:00  ...   650.188125      157.69\n",
              "1       1586991600000  2020-04-15 23:00:00  ...  4277.567299      159.05\n",
              "2       1586988000000  2020-04-15 22:00:00  ...   106.337279      158.77\n",
              "3       1586984400000  2020-04-15 21:00:00  ...    55.244131      159.84\n",
              "4       1586980800000  2020-04-15 20:00:00  ...   144.262622      160.21\n",
              "...               ...                  ...  ...          ...         ...\n",
              "34492      1462813200  2016-05-09 17:00:00  ...   329.553213         NaN\n",
              "34493      1462809600  2016-05-09 16:00:00  ...    62.379450         NaN\n",
              "34494      1462806000  2016-05-09 15:00:00  ...    10.973567         NaN\n",
              "34495      1462802400  2016-05-09 14:00:00  ...   235.774075         NaN\n",
              "34496      1462798800  2016-05-09 13:00:00  ...   432.562115         NaN\n",
              "\n",
              "[34497 rows x 9 columns]"
            ]
          },
          "metadata": {
            "tags": []
          },
          "execution_count": 27
        }
      ]
    },
    {
      "cell_type": "code",
      "metadata": {
        "colab": {
          "base_uri": "https://localhost:8080/",
          "height": 356
        },
        "id": "BRELAhSAYQeo",
        "outputId": "9146e62d-02c9-4bea-eb12-91b07d5ec492"
      },
      "source": [
        "sns.heatmap(df.corr(), annot = True,cmap= 'YlGnBu')"
      ],
      "execution_count": 30,
      "outputs": [
        {
          "output_type": "execute_result",
          "data": {
            "text/plain": [
              "<matplotlib.axes._subplots.AxesSubplot at 0x7fb635728690>"
            ]
          },
          "metadata": {
            "tags": []
          },
          "execution_count": 30
        },
        {
          "output_type": "display_data",
          "data": {
            "image/png": "[encoded data removed]",
            "text/plain": [
              "<Figure size 432x288 with 2 Axes>"
            ]
          },
          "metadata": {
            "tags": [],
            "needs_background": "light"
          }
        }
      ]
    },
    {
      "cell_type": "markdown",
      "metadata": {
        "id": "MtYVe4wTZtLH"
      },
      "source": [
        "Create array because we cannot apply machine learning on list, Tuple and Dataframe."
      ]
    },
    {
      "cell_type": "code",
      "metadata": {
        "colab": {
          "base_uri": "https://localhost:8080/"
        },
        "id": "DG_LlYrEaFEN",
        "outputId": "1e267504-2eca-4e09-8a31-a4c1efdf3075"
      },
      "source": [
        "# Create independent dataset (x)\n",
        "x = np.array(df[['Close']])\n",
        "x = x[:-projection]\n",
        "print(x)"
      ],
      "execution_count": 33,
      "outputs": [
        {
          "output_type": "stream",
          "text": [
            "[[150.39]\n",
            " [152.94]\n",
            " [155.81]\n",
            " ...\n",
            " [  9.36]\n",
            " [  9.36]\n",
            " [  9.36]]\n"
          ],
          "name": "stdout"
        }
      ]
    },
    {
      "cell_type": "code",
      "metadata": {
        "colab": {
          "base_uri": "https://localhost:8080/"
        },
        "id": "hpdj4RULa6OO",
        "outputId": "31ac13e3-5191-439e-a7cc-fd3259ee0859"
      },
      "source": [
        "y = df['Prediction'].values\n",
        "y = y[:-projection]\n",
        "print(y)"
      ],
      "execution_count": 34,
      "outputs": [
        {
          "output_type": "stream",
          "text": [
            "[157.69 159.05 158.77 ...   9.99  10.     9.55]\n"
          ],
          "name": "stdout"
        }
      ]
    },
    {
      "cell_type": "markdown",
      "metadata": {
        "id": "hQxRYKTSbvsZ"
      },
      "source": [
        "# *Splitting and visualizing Data*"
      ]
    },
    {
      "cell_type": "code",
      "metadata": {
        "id": "DqeuRvjJb1wg"
      },
      "source": [
        "from sklearn.linear_model import LinearRegression\n",
        "from sklearn.model_selection import train_test_split\n",
        "\n",
        "x_train, x_test, y_train, y_test = train_test_split(x,y, test_size = .20)"
      ],
      "execution_count": 38,
      "outputs": []
    },
    {
      "cell_type": "code",
      "metadata": {
        "colab": {
          "base_uri": "https://localhost:8080/",
          "height": 295
        },
        "id": "z9O3RjUxh2c0",
        "outputId": "641b8a1a-d6f9-472b-8469-342d4da32ddf"
      },
      "source": [
        "# ploting the distribution of price\n",
        "plt.scatter(x_test, y_test, color = \"green\")\n",
        "\n",
        "# Add title to figure\n",
        "plt.title(\"Etherium price vs Predicted Price after 14 days (Training set)\")\n",
        "\n",
        "# Add Label for horzontal & Vertical Axis\n",
        "plt.xlabel(\"Etherium Price\")\n",
        "plt.ylabel(\"Prediction Price\")\n",
        "plt.show()"
      ],
      "execution_count": 50,
      "outputs": [
        {
          "output_type": "display_data",
          "data": {
            "image/png": "[encoded data removed]",
            "text/plain": [
              "<Figure size 432x288 with 1 Axes>"
            ]
          },
          "metadata": {
            "tags": [],
            "needs_background": "light"
          }
        }
      ]
    },
    {
      "cell_type": "markdown",
      "metadata": {
        "id": "UznWCYtLinqF"
      },
      "source": [
        "# *Model Building and testing*"
      ]
    },
    {
      "cell_type": "markdown",
      "metadata": {
        "id": "U3-fJaNBizVy"
      },
      "source": [
        "## Linear Regression"
      ]
    },
    {
      "cell_type": "code",
      "metadata": {
        "colab": {
          "base_uri": "https://localhost:8080/"
        },
        "id": "CuAef8iliu0u",
        "outputId": "2c8dcfe6-7aa8-49e7-f04f-a24b28333e67"
      },
      "source": [
        "regressor=LinearRegression()\n",
        "\n",
        "# Train the model\n",
        "regressor.fit(x_train, y_train)"
      ],
      "execution_count": 51,
      "outputs": [
        {
          "output_type": "execute_result",
          "data": {
            "text/plain": [
              "LinearRegression(copy_X=True, fit_intercept=True, n_jobs=None, normalize=False)"
            ]
          },
          "metadata": {
            "tags": []
          },
          "execution_count": 51
        }
      ]
    },
    {
      "cell_type": "code",
      "metadata": {
        "colab": {
          "base_uri": "https://localhost:8080/"
        },
        "id": "GldjuAsGjdJ_",
        "outputId": "66fe15cd-5567-4ccf-bf34-dea8b135e636"
      },
      "source": [
        "# Test the model using score\n",
        "regressor_confidense = regressor.score(x_test, y_test)\n",
        "print(\"Linear Regressioin Confidense :\", regressor_confidense)"
      ],
      "execution_count": 52,
      "outputs": [
        {
          "output_type": "stream",
          "text": [
            "Linear Regressioin Confidense : 0.9946922672972002\n"
          ],
          "name": "stdout"
        }
      ]
    },
    {
      "cell_type": "code",
      "metadata": {
        "colab": {
          "base_uri": "https://localhost:8080/"
        },
        "id": "MHDigBUtkHk9",
        "outputId": "6cf0ec7b-1116-4dde-8933-48e3c545d3d0"
      },
      "source": [
        "regressor_prediction = regressor.predict(x_test)\n",
        "print(regressor_prediction)"
      ],
      "execution_count": 53,
      "outputs": [
        {
          "output_type": "stream",
          "text": [
            "[270.70391262  13.55122635 261.12281432 ... 181.70948184  50.82768693\n",
            " 224.91424699]\n"
          ],
          "name": "stdout"
        }
      ]
    },
    {
      "cell_type": "code",
      "metadata": {
        "colab": {
          "base_uri": "https://localhost:8080/"
        },
        "id": "dT0GN5TMkcg1",
        "outputId": "88f68ea7-295e-43ee-dcaf-0f7bead59cbd"
      },
      "source": [
        "y_test"
      ],
      "execution_count": 54,
      "outputs": [
        {
          "output_type": "execute_result",
          "data": {
            "text/plain": [
              "array([274.34,  13.05, 257.1 , ..., 162.47,  52.15, 211.66])"
            ]
          },
          "metadata": {
            "tags": []
          },
          "execution_count": 54
        }
      ]
    },
    {
      "cell_type": "code",
      "metadata": {
        "colab": {
          "base_uri": "https://localhost:8080/",
          "height": 295
        },
        "id": "g5Ky9KVglAyB",
        "outputId": "b528087a-b42f-4d45-9b61-e2cab946319c"
      },
      "source": [
        "# ploting the distribution of price\n",
        "plt.scatter(x_test, y_test, color = \"green\")\n",
        "\n",
        "# Ploting line in scattered figure\n",
        "plt.plot(x_train, regressor.predict(x_train), color = \"yellow\")\n",
        "\n",
        "# Add title to figure\n",
        "plt.title(\"Etherium price vs Predicted Price after 14 days (Training set)\")\n",
        "\n",
        "# Add Label for horzontal & Vertical Axis\n",
        "plt.xlabel(\"Etherium Price\")\n",
        "plt.ylabel(\"Prediction Price\")\n",
        "plt.show()"
      ],
      "execution_count": 55,
      "outputs": [
        {
          "output_type": "display_data",
          "data": {
            "image/png": "[encoded data removed]",
            "text/plain": [
              "<Figure size 432x288 with 1 Axes>"
            ]
          },
          "metadata": {
            "tags": [],
            "needs_background": "light"
          }
        }
      ]
    },
    {
      "cell_type": "markdown",
      "metadata": {
        "id": "diA7CvizlU8E"
      },
      "source": [
        "# *Saving Model and Loading Model"
      ]
    },
    {
      "cell_type": "code",
      "metadata": {
        "id": "s00SLv98lSvW"
      },
      "source": [
        "import pickle\n",
        "\n",
        "# Save the model to disk\n",
        "filename = 'ether_predictor.pkl'\n",
        "pickle.dump(regressor, open(filename, 'wb'))"
      ],
      "execution_count": 56,
      "outputs": []
    },
    {
      "cell_type": "code",
      "metadata": {
        "colab": {
          "base_uri": "https://localhost:8080/"
        },
        "id": "wN2B3OcFl0g4",
        "outputId": "193e782b-b399-49a6-bb4f-82a85fbf7e41"
      },
      "source": [
        "# Load the model from disk\n",
        "loaded_model = pickle.load(open(filename, 'rb'))\n",
        "result = loaded_model.score(x_test, y_test)\n",
        "print(result)"
      ],
      "execution_count": 57,
      "outputs": [
        {
          "output_type": "stream",
          "text": [
            "0.9946922672972002\n"
          ],
          "name": "stdout"
        }
      ]
    },
    {
      "cell_type": "code",
      "metadata": {
        "colab": {
          "base_uri": "https://localhost:8080/"
        },
        "id": "2BxkNJ_ql5X2",
        "outputId": "9be5f42f-5516-4cfd-df04-8f8436454eb6"
      },
      "source": [
        "loaded_model.predict(x_test)"
      ],
      "execution_count": 59,
      "outputs": [
        {
          "output_type": "execute_result",
          "data": {
            "text/plain": [
              "array([270.70391262,  13.55122635, 261.12281432, ..., 181.70948184,\n",
              "        50.82768693, 224.91424699])"
            ]
          },
          "metadata": {
            "tags": []
          },
          "execution_count": 59
        }
      ]
    }
  ]
}